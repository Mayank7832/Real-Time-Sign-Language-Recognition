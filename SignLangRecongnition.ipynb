{
  "nbformat": 4,
  "nbformat_minor": 0,
  "metadata": {
    "colab": {
      "name": "SignLangRecongnition.ipynb",
      "provenance": [],
      "collapsed_sections": []
    },
    "kernelspec": {
      "name": "python3",
      "display_name": "Python 3"
    }
  },
  "cells": [
    {
      "cell_type": "code",
      "metadata": {
        "id": "Pqv8a0--FDIK"
      },
      "source": [
        "import cv2\n",
        "import numpy as np\n",
        "import matplotlib.pyplot as plt\n",
        "import os\n",
        "from tqdm import tqdm\n",
        "import random\n",
        "from google.colab import drive\n",
        "from google.colab.patches import cv2_imshow\n"
      ],
      "execution_count": 1,
      "outputs": []
    },
    {
      "cell_type": "markdown",
      "metadata": {
        "id": "GtDZ6JKNPuWv"
      },
      "source": [
        "## Loading Dataset from Google Drive"
      ]
    },
    {
      "cell_type": "code",
      "metadata": {
        "id": "_KZZSZ_fP-TM",
        "colab": {
          "base_uri": "https://localhost:8080/"
        },
        "outputId": "4a2852bb-3c01-4c07-b651-d74ff4fe0c67"
      },
      "source": [
        "drive.mount('/content/drive')"
      ],
      "execution_count": 2,
      "outputs": [
        {
          "output_type": "stream",
          "text": [
            "Mounted at /content/drive\n"
          ],
          "name": "stdout"
        }
      ]
    },
    {
      "cell_type": "code",
      "metadata": {
        "colab": {
          "base_uri": "https://localhost:8080/"
        },
        "id": "bK8rlsxZQsPN",
        "outputId": "fb3e8829-b983-49f5-896a-cd499cf94942"
      },
      "source": [
        "os.listdir(\"/content/drive/My Drive/ASL\")"
      ],
      "execution_count": 3,
      "outputs": [
        {
          "output_type": "execute_result",
          "data": {
            "text/plain": [
              "['D',\n",
              " 'X',\n",
              " 'A',\n",
              " 'U',\n",
              " 'B',\n",
              " 'E',\n",
              " 'Y',\n",
              " 'C',\n",
              " 'V',\n",
              " 'W',\n",
              " 'L',\n",
              " 'G',\n",
              " 'O',\n",
              " 'P',\n",
              " 'F',\n",
              " 'M',\n",
              " 'H',\n",
              " 'N',\n",
              " 'I',\n",
              " 'K',\n",
              " 'T',\n",
              " 'R',\n",
              " 'Q',\n",
              " 'S',\n",
              " 'training_data.pkl',\n",
              " 'testing_data.pkl',\n",
              " 'model.h5']"
            ]
          },
          "metadata": {
            "tags": []
          },
          "execution_count": 3
        }
      ]
    },
    {
      "cell_type": "code",
      "metadata": {
        "id": "CPlGw--HFufa",
        "colab": {
          "base_uri": "https://localhost:8080/"
        },
        "outputId": "9fec754d-e7ce-4aee-8171-b6cb82a7360b"
      },
      "source": [
        "CATEGORIES = ['A', 'B', 'C', 'D', 'E', 'F', 'G', 'H', 'I', 'K', 'L', 'M', 'N', 'O', 'P', 'Q', 'R', 'S', 'T', 'U', 'V', 'W', 'X', 'Y']\n",
        "print(CATEGORIES)"
      ],
      "execution_count": 4,
      "outputs": [
        {
          "output_type": "stream",
          "text": [
            "['A', 'B', 'C', 'D', 'E', 'F', 'G', 'H', 'I', 'K', 'L', 'M', 'N', 'O', 'P', 'Q', 'R', 'S', 'T', 'U', 'V', 'W', 'X', 'Y']\n"
          ],
          "name": "stdout"
        }
      ]
    },
    {
      "cell_type": "code",
      "metadata": {
        "colab": {
          "base_uri": "https://localhost:8080/"
        },
        "id": "7f_C2KOHsfdM",
        "outputId": "ddf17d7a-4e4d-4410-81ed-525c823c5ef0"
      },
      "source": [
        "len(CATEGORIES)"
      ],
      "execution_count": 5,
      "outputs": [
        {
          "output_type": "execute_result",
          "data": {
            "text/plain": [
              "24"
            ]
          },
          "metadata": {
            "tags": []
          },
          "execution_count": 5
        }
      ]
    },
    {
      "cell_type": "code",
      "metadata": {
        "id": "tIa-OIetdFAy"
      },
      "source": [
        "import pickle "
      ],
      "execution_count": 6,
      "outputs": []
    },
    {
      "cell_type": "code",
      "metadata": {
        "id": "RWS2aGw8V8dk"
      },
      "source": [
        "infile = open('/content/drive/My Drive/ASL/training_data.pkl','rb')\n",
        "train = pickle.load(infile)\n",
        "infile.close()"
      ],
      "execution_count": 7,
      "outputs": []
    },
    {
      "cell_type": "code",
      "metadata": {
        "id": "4rtRXFWecaMg",
        "colab": {
          "base_uri": "https://localhost:8080/"
        },
        "outputId": "2d4beb33-764d-4aac-e7eb-973edb2837e9"
      },
      "source": [
        "len(train)"
      ],
      "execution_count": 8,
      "outputs": [
        {
          "output_type": "execute_result",
          "data": {
            "text/plain": [
              "3977"
            ]
          },
          "metadata": {
            "tags": []
          },
          "execution_count": 8
        }
      ]
    },
    {
      "cell_type": "code",
      "metadata": {
        "id": "Wh8Qpb_16XlN"
      },
      "source": [
        "infile = open('/content/drive/My Drive/ASL/testing_data.pkl','rb')\n",
        "test = pickle.load(infile)\n",
        "infile.close()"
      ],
      "execution_count": 9,
      "outputs": []
    },
    {
      "cell_type": "code",
      "metadata": {
        "colab": {
          "base_uri": "https://localhost:8080/"
        },
        "id": "QMhyqPkE6kux",
        "outputId": "5f020838-4a95-454f-9600-8abed7a8d897"
      },
      "source": [
        "len(test)"
      ],
      "execution_count": 10,
      "outputs": [
        {
          "output_type": "execute_result",
          "data": {
            "text/plain": [
              "995"
            ]
          },
          "metadata": {
            "tags": []
          },
          "execution_count": 10
        }
      ]
    },
    {
      "cell_type": "code",
      "metadata": {
        "colab": {
          "base_uri": "https://localhost:8080/"
        },
        "id": "F6V7Gw6K8Ot9",
        "outputId": "bfa669c9-3b3a-4750-8212-4e978ad9e50b"
      },
      "source": [
        "train[0][0].shape"
      ],
      "execution_count": 11,
      "outputs": [
        {
          "output_type": "execute_result",
          "data": {
            "text/plain": [
              "(100, 100)"
            ]
          },
          "metadata": {
            "tags": []
          },
          "execution_count": 11
        }
      ]
    },
    {
      "cell_type": "code",
      "metadata": {
        "colab": {
          "base_uri": "https://localhost:8080/",
          "height": 285
        },
        "id": "rlYQQmpm6mFy",
        "outputId": "5774f0c9-4cf0-4c14-eb4c-add69c9a28bf"
      },
      "source": [
        "plt.imshow(train[0][0], cmap='gray')"
      ],
      "execution_count": 12,
      "outputs": [
        {
          "output_type": "execute_result",
          "data": {
            "text/plain": [
              "<matplotlib.image.AxesImage at 0x7fd25ba93d50>"
            ]
          },
          "metadata": {
            "tags": []
          },
          "execution_count": 12
        },
        {
          "output_type": "display_data",
          "data": {
            "image/png": "[encoded data removed]",
            "text/plain": [
              "<Figure size 432x288 with 1 Axes>"
            ]
          },
          "metadata": {
            "tags": [],
            "needs_background": "light"
          }
        }
      ]
    },
    {
      "cell_type": "code",
      "metadata": {
        "colab": {
          "base_uri": "https://localhost:8080/",
          "height": 35
        },
        "id": "yxT9bt6v7A-H",
        "outputId": "e0d776f7-9b47-48e6-d74f-d3c9828b32e5"
      },
      "source": [
        "CATEGORIES[train[0][1]]"
      ],
      "execution_count": 13,
      "outputs": [
        {
          "output_type": "execute_result",
          "data": {
            "application/vnd.google.colaboratory.intrinsic+json": {
              "type": "string"
            },
            "text/plain": [
              "'G'"
            ]
          },
          "metadata": {
            "tags": []
          },
          "execution_count": 13
        }
      ]
    },
    {
      "cell_type": "code",
      "metadata": {
        "colab": {
          "base_uri": "https://localhost:8080/"
        },
        "id": "ljiOZ6mr9Vyw",
        "outputId": "e7677c94-3fed-4a9b-a037-5a0837a993a9"
      },
      "source": [
        "train[0][0].shape"
      ],
      "execution_count": 14,
      "outputs": [
        {
          "output_type": "execute_result",
          "data": {
            "text/plain": [
              "(100, 100)"
            ]
          },
          "metadata": {
            "tags": []
          },
          "execution_count": 14
        }
      ]
    },
    {
      "cell_type": "code",
      "metadata": {
        "colab": {
          "base_uri": "https://localhost:8080/"
        },
        "id": "FQ8uqFgEu6RN",
        "outputId": "5650e977-404e-4b50-b939-8e90b03aa11b"
      },
      "source": [
        "img = train[0][0]\n",
        "img.shape"
      ],
      "execution_count": 15,
      "outputs": [
        {
          "output_type": "execute_result",
          "data": {
            "text/plain": [
              "(100, 100)"
            ]
          },
          "metadata": {
            "tags": []
          },
          "execution_count": 15
        }
      ]
    },
    {
      "cell_type": "code",
      "metadata": {
        "colab": {
          "base_uri": "https://localhost:8080/",
          "height": 117
        },
        "id": "yadLOf3Fu-u1",
        "outputId": "68d4e0af-0911-4bce-bdd2-e10da169dea8"
      },
      "source": [
        "cv2_imshow(img)"
      ],
      "execution_count": 16,
      "outputs": [
        {
          "output_type": "display_data",
          "data": {
            "image/png": "[encoded data removed]",
            "text/plain": [
              "<PIL.Image.Image image mode=L size=100x100 at 0x7FD25B85EAD0>"
            ]
          },
          "metadata": {
            "tags": []
          }
        }
      ]
    },
    {
      "cell_type": "code",
      "metadata": {
        "colab": {
          "base_uri": "https://localhost:8080/"
        },
        "id": "is5thpkzvA19",
        "outputId": "b84c065e-6835-4c98-9869-fbc1e2e353ea"
      },
      "source": [
        "img = np.expand_dims(img, axis=2)\n",
        "img.shape"
      ],
      "execution_count": 17,
      "outputs": [
        {
          "output_type": "execute_result",
          "data": {
            "text/plain": [
              "(100, 100, 1)"
            ]
          },
          "metadata": {
            "tags": []
          },
          "execution_count": 17
        }
      ]
    },
    {
      "cell_type": "markdown",
      "metadata": {
        "id": "IxlpnvmN6yp4"
      },
      "source": [
        "## Creating X_train, X_test, y_train, y_test"
      ]
    },
    {
      "cell_type": "code",
      "metadata": {
        "id": "faynBVjp7Dwo"
      },
      "source": [
        "X_train = np.zeros((len(train),100,100))\n",
        "y_train = np.zeros((len(train),1), dtype = int)\n",
        "for i in range(len(train)) :\n",
        "  X_train[i] = train[i][0]\n",
        "  y_train[i] = train[i][1]\n"
      ],
      "execution_count": 18,
      "outputs": []
    },
    {
      "cell_type": "code",
      "metadata": {
        "id": "HKjJ5dXW7hJs",
        "colab": {
          "base_uri": "https://localhost:8080/",
          "height": 285
        },
        "outputId": "048dfca5-6297-4d75-cd70-5dd8f9236148"
      },
      "source": [
        "plt.imshow(X_train[0], cmap='gray')"
      ],
      "execution_count": 19,
      "outputs": [
        {
          "output_type": "execute_result",
          "data": {
            "text/plain": [
              "<matplotlib.image.AxesImage at 0x7fd25b3a3410>"
            ]
          },
          "metadata": {
            "tags": []
          },
          "execution_count": 19
        },
        {
          "output_type": "display_data",
          "data": {
            "image/png": "[encoded data removed]",
            "text/plain": [
              "<Figure size 432x288 with 1 Axes>"
            ]
          },
          "metadata": {
            "tags": [],
            "needs_background": "light"
          }
        }
      ]
    },
    {
      "cell_type": "code",
      "metadata": {
        "colab": {
          "base_uri": "https://localhost:8080/",
          "height": 35
        },
        "id": "HnbVgg2fg4VC",
        "outputId": "9ff39957-ffef-415b-d89a-13d90234e558"
      },
      "source": [
        "CATEGORIES[y_train[0][0]]"
      ],
      "execution_count": 20,
      "outputs": [
        {
          "output_type": "execute_result",
          "data": {
            "application/vnd.google.colaboratory.intrinsic+json": {
              "type": "string"
            },
            "text/plain": [
              "'G'"
            ]
          },
          "metadata": {
            "tags": []
          },
          "execution_count": 20
        }
      ]
    },
    {
      "cell_type": "code",
      "metadata": {
        "colab": {
          "base_uri": "https://localhost:8080/"
        },
        "id": "8KPWaRVJg8LO",
        "outputId": "9813c0ef-cae0-440d-aa9b-1ca2ff14233c"
      },
      "source": [
        "X_train.shape"
      ],
      "execution_count": 21,
      "outputs": [
        {
          "output_type": "execute_result",
          "data": {
            "text/plain": [
              "(3977, 100, 100)"
            ]
          },
          "metadata": {
            "tags": []
          },
          "execution_count": 21
        }
      ]
    },
    {
      "cell_type": "code",
      "metadata": {
        "colab": {
          "base_uri": "https://localhost:8080/"
        },
        "id": "r6qlC8rSutjq",
        "outputId": "423e6504-d43d-4b59-9aa1-08bb3d42f1f5"
      },
      "source": [
        "X_train[0].shape"
      ],
      "execution_count": 22,
      "outputs": [
        {
          "output_type": "execute_result",
          "data": {
            "text/plain": [
              "(100, 100)"
            ]
          },
          "metadata": {
            "tags": []
          },
          "execution_count": 22
        }
      ]
    },
    {
      "cell_type": "code",
      "metadata": {
        "colab": {
          "base_uri": "https://localhost:8080/"
        },
        "id": "lxHRe2fIhQ7O",
        "outputId": "33e11380-e5f2-4d8d-a0bc-d44a7e500383"
      },
      "source": [
        "y_train.shape"
      ],
      "execution_count": 23,
      "outputs": [
        {
          "output_type": "execute_result",
          "data": {
            "text/plain": [
              "(3977, 1)"
            ]
          },
          "metadata": {
            "tags": []
          },
          "execution_count": 23
        }
      ]
    },
    {
      "cell_type": "code",
      "metadata": {
        "id": "nbPstK_AhS9A"
      },
      "source": [
        "X_test = np.zeros((len(test),100,100))\n",
        "y_test = np.zeros((len(test),1), dtype = int)\n",
        "for i in range(len(test)) :\n",
        "  X_test[i] = test[i][0]\n",
        "  y_test[i] = test[i][1]"
      ],
      "execution_count": 24,
      "outputs": []
    },
    {
      "cell_type": "code",
      "metadata": {
        "colab": {
          "base_uri": "https://localhost:8080/",
          "height": 285
        },
        "id": "EpAHOba0n0wz",
        "outputId": "3b59076d-23f2-44db-81a7-26526e7888f5"
      },
      "source": [
        "plt.imshow(X_test[0], cmap='gray')"
      ],
      "execution_count": 25,
      "outputs": [
        {
          "output_type": "execute_result",
          "data": {
            "text/plain": [
              "<matplotlib.image.AxesImage at 0x7fd25b306a90>"
            ]
          },
          "metadata": {
            "tags": []
          },
          "execution_count": 25
        },
        {
          "output_type": "display_data",
          "data": {
            "image/png": "[encoded data removed]",
            "text/plain": [
              "<Figure size 432x288 with 1 Axes>"
            ]
          },
          "metadata": {
            "tags": [],
            "needs_background": "light"
          }
        }
      ]
    },
    {
      "cell_type": "code",
      "metadata": {
        "colab": {
          "base_uri": "https://localhost:8080/",
          "height": 35
        },
        "id": "UPbjpmX2n1gK",
        "outputId": "c89db7f3-44a1-4a59-88f8-f4a1a7c0b51a"
      },
      "source": [
        "CATEGORIES[y_test[0][0]]"
      ],
      "execution_count": 26,
      "outputs": [
        {
          "output_type": "execute_result",
          "data": {
            "application/vnd.google.colaboratory.intrinsic+json": {
              "type": "string"
            },
            "text/plain": [
              "'E'"
            ]
          },
          "metadata": {
            "tags": []
          },
          "execution_count": 26
        }
      ]
    },
    {
      "cell_type": "code",
      "metadata": {
        "colab": {
          "base_uri": "https://localhost:8080/"
        },
        "id": "ccT4lYpZomWg",
        "outputId": "09ea9f63-032f-4fd1-deda-61984c06cbd6"
      },
      "source": [
        "# Resizing X_train, X_test to (len(),100,100,1) since its necessary for training and testing in model\n",
        "X_train = np.expand_dims(X_train, axis=3)\n",
        "X_train.shape"
      ],
      "execution_count": 27,
      "outputs": [
        {
          "output_type": "execute_result",
          "data": {
            "text/plain": [
              "(3977, 100, 100, 1)"
            ]
          },
          "metadata": {
            "tags": []
          },
          "execution_count": 27
        }
      ]
    },
    {
      "cell_type": "code",
      "metadata": {
        "colab": {
          "base_uri": "https://localhost:8080/",
          "height": 117
        },
        "id": "02_YcQp-pQfb",
        "outputId": "86cebf15-c417-424f-ac7c-1b979e9adf91"
      },
      "source": [
        "cv2_imshow(X_train[0])"
      ],
      "execution_count": 28,
      "outputs": [
        {
          "output_type": "display_data",
          "data": {
            "image/png": "[encoded data removed]",
            "text/plain": [
              "<PIL.Image.Image image mode=RGB size=100x100 at 0x7FD25B2F7410>"
            ]
          },
          "metadata": {
            "tags": []
          }
        }
      ]
    },
    {
      "cell_type": "code",
      "metadata": {
        "colab": {
          "base_uri": "https://localhost:8080/"
        },
        "id": "tLcXmS_fpwHy",
        "outputId": "6f5473be-4f79-4a68-ae31-13d49dcac9d8"
      },
      "source": [
        "X_test = np.expand_dims(X_test, axis=3)\n",
        "X_test.shape"
      ],
      "execution_count": 29,
      "outputs": [
        {
          "output_type": "execute_result",
          "data": {
            "text/plain": [
              "(995, 100, 100, 1)"
            ]
          },
          "metadata": {
            "tags": []
          },
          "execution_count": 29
        }
      ]
    },
    {
      "cell_type": "code",
      "metadata": {
        "colab": {
          "base_uri": "https://localhost:8080/"
        },
        "id": "tfHODX6ToE2F",
        "outputId": "0b7bb5f1-b0e3-4734-f393-9462b16d62db"
      },
      "source": [
        "pip install tensorflow"
      ],
      "execution_count": 30,
      "outputs": [
        {
          "output_type": "stream",
          "text": [
            "Requirement already satisfied: tensorflow in /usr/local/lib/python3.7/dist-packages (2.4.1)\n",
            "Requirement already satisfied: tensorboard~=2.4 in /usr/local/lib/python3.7/dist-packages (from tensorflow) (2.4.1)\n",
            "Requirement already satisfied: h5py~=2.10.0 in /usr/local/lib/python3.7/dist-packages (from tensorflow) (2.10.0)\n",
            "Requirement already satisfied: grpcio~=1.32.0 in /usr/local/lib/python3.7/dist-packages (from tensorflow) (1.32.0)\n",
            "Requirement already satisfied: google-pasta~=0.2 in /usr/local/lib/python3.7/dist-packages (from tensorflow) (0.2.0)\n",
            "Requirement already satisfied: opt-einsum~=3.3.0 in /usr/local/lib/python3.7/dist-packages (from tensorflow) (3.3.0)\n",
            "Requirement already satisfied: protobuf>=3.9.2 in /usr/local/lib/python3.7/dist-packages (from tensorflow) (3.12.4)\n",
            "Requirement already satisfied: six~=1.15.0 in /usr/local/lib/python3.7/dist-packages (from tensorflow) (1.15.0)\n",
            "Requirement already satisfied: astunparse~=1.6.3 in /usr/local/lib/python3.7/dist-packages (from tensorflow) (1.6.3)\n",
            "Requirement already satisfied: flatbuffers~=1.12.0 in /usr/local/lib/python3.7/dist-packages (from tensorflow) (1.12)\n",
            "Requirement already satisfied: numpy~=1.19.2 in /usr/local/lib/python3.7/dist-packages (from tensorflow) (1.19.5)\n",
            "Requirement already satisfied: absl-py~=0.10 in /usr/local/lib/python3.7/dist-packages (from tensorflow) (0.10.0)\n",
            "Requirement already satisfied: tensorflow-estimator<2.5.0,>=2.4.0 in /usr/local/lib/python3.7/dist-packages (from tensorflow) (2.4.0)\n",
            "Requirement already satisfied: typing-extensions~=3.7.4 in /usr/local/lib/python3.7/dist-packages (from tensorflow) (3.7.4.3)\n",
            "Requirement already satisfied: termcolor~=1.1.0 in /usr/local/lib/python3.7/dist-packages (from tensorflow) (1.1.0)\n",
            "Requirement already satisfied: wrapt~=1.12.1 in /usr/local/lib/python3.7/dist-packages (from tensorflow) (1.12.1)\n",
            "Requirement already satisfied: keras-preprocessing~=1.1.2 in /usr/local/lib/python3.7/dist-packages (from tensorflow) (1.1.2)\n",
            "Requirement already satisfied: gast==0.3.3 in /usr/local/lib/python3.7/dist-packages (from tensorflow) (0.3.3)\n",
            "Requirement already satisfied: wheel~=0.35 in /usr/local/lib/python3.7/dist-packages (from tensorflow) (0.36.2)\n",
            "Requirement already satisfied: werkzeug>=0.11.15 in /usr/local/lib/python3.7/dist-packages (from tensorboard~=2.4->tensorflow) (1.0.1)\n",
            "Requirement already satisfied: google-auth<2,>=1.6.3 in /usr/local/lib/python3.7/dist-packages (from tensorboard~=2.4->tensorflow) (1.27.1)\n",
            "Requirement already satisfied: setuptools>=41.0.0 in /usr/local/lib/python3.7/dist-packages (from tensorboard~=2.4->tensorflow) (54.1.2)\n",
            "Requirement already satisfied: requests<3,>=2.21.0 in /usr/local/lib/python3.7/dist-packages (from tensorboard~=2.4->tensorflow) (2.23.0)\n",
            "Requirement already satisfied: google-auth-oauthlib<0.5,>=0.4.1 in /usr/local/lib/python3.7/dist-packages (from tensorboard~=2.4->tensorflow) (0.4.3)\n",
            "Requirement already satisfied: markdown>=2.6.8 in /usr/local/lib/python3.7/dist-packages (from tensorboard~=2.4->tensorflow) (3.3.4)\n",
            "Requirement already satisfied: tensorboard-plugin-wit>=1.6.0 in /usr/local/lib/python3.7/dist-packages (from tensorboard~=2.4->tensorflow) (1.8.0)\n",
            "Requirement already satisfied: rsa<5,>=3.1.4; python_version >= \"3.6\" in /usr/local/lib/python3.7/dist-packages (from google-auth<2,>=1.6.3->tensorboard~=2.4->tensorflow) (4.7.2)\n",
            "Requirement already satisfied: pyasn1-modules>=0.2.1 in /usr/local/lib/python3.7/dist-packages (from google-auth<2,>=1.6.3->tensorboard~=2.4->tensorflow) (0.2.8)\n",
            "Requirement already satisfied: cachetools<5.0,>=2.0.0 in /usr/local/lib/python3.7/dist-packages (from google-auth<2,>=1.6.3->tensorboard~=2.4->tensorflow) (4.2.1)\n",
            "Requirement already satisfied: idna<3,>=2.5 in /usr/local/lib/python3.7/dist-packages (from requests<3,>=2.21.0->tensorboard~=2.4->tensorflow) (2.10)\n",
            "Requirement already satisfied: chardet<4,>=3.0.2 in /usr/local/lib/python3.7/dist-packages (from requests<3,>=2.21.0->tensorboard~=2.4->tensorflow) (3.0.4)\n",
            "Requirement already satisfied: urllib3!=1.25.0,!=1.25.1,<1.26,>=1.21.1 in /usr/local/lib/python3.7/dist-packages (from requests<3,>=2.21.0->tensorboard~=2.4->tensorflow) (1.24.3)\n",
            "Requirement already satisfied: certifi>=2017.4.17 in /usr/local/lib/python3.7/dist-packages (from requests<3,>=2.21.0->tensorboard~=2.4->tensorflow) (2020.12.5)\n",
            "Requirement already satisfied: requests-oauthlib>=0.7.0 in /usr/local/lib/python3.7/dist-packages (from google-auth-oauthlib<0.5,>=0.4.1->tensorboard~=2.4->tensorflow) (1.3.0)\n",
            "Requirement already satisfied: importlib-metadata; python_version < \"3.8\" in /usr/local/lib/python3.7/dist-packages (from markdown>=2.6.8->tensorboard~=2.4->tensorflow) (3.7.2)\n",
            "Requirement already satisfied: pyasn1>=0.1.3 in /usr/local/lib/python3.7/dist-packages (from rsa<5,>=3.1.4; python_version >= \"3.6\"->google-auth<2,>=1.6.3->tensorboard~=2.4->tensorflow) (0.4.8)\n",
            "Requirement already satisfied: oauthlib>=3.0.0 in /usr/local/lib/python3.7/dist-packages (from requests-oauthlib>=0.7.0->google-auth-oauthlib<0.5,>=0.4.1->tensorboard~=2.4->tensorflow) (3.1.0)\n",
            "Requirement already satisfied: zipp>=0.5 in /usr/local/lib/python3.7/dist-packages (from importlib-metadata; python_version < \"3.8\"->markdown>=2.6.8->tensorboard~=2.4->tensorflow) (3.4.1)\n"
          ],
          "name": "stdout"
        }
      ]
    },
    {
      "cell_type": "code",
      "metadata": {
        "id": "PpJvwNGGsn5u"
      },
      "source": [
        "import tensorflow as tf\n",
        "from tensorflow.keras.models import Sequential, load_model\n",
        "from tensorflow.keras.layers import Dense,Conv2D,Flatten,MaxPooling2D,Dropout,BatchNormalization"
      ],
      "execution_count": 31,
      "outputs": []
    },
    {
      "cell_type": "code",
      "metadata": {
        "colab": {
          "base_uri": "https://localhost:8080/",
          "height": 35
        },
        "id": "PRPZcuDrsqVe",
        "outputId": "f26f46a7-67d0-444e-9a02-f3a8c48c584f"
      },
      "source": [
        "tf.__version__"
      ],
      "execution_count": 32,
      "outputs": [
        {
          "output_type": "execute_result",
          "data": {
            "application/vnd.google.colaboratory.intrinsic+json": {
              "type": "string"
            },
            "text/plain": [
              "'2.4.1'"
            ]
          },
          "metadata": {
            "tags": []
          },
          "execution_count": 32
        }
      ]
    },
    {
      "cell_type": "code",
      "metadata": {
        "colab": {
          "base_uri": "https://localhost:8080/",
          "height": 35
        },
        "id": "eKxO6Z-olCGr",
        "outputId": "690cf64a-da30-46a2-f80a-49c4dcdf6b52"
      },
      "source": [
        "tf.keras.__version__"
      ],
      "execution_count": 33,
      "outputs": [
        {
          "output_type": "execute_result",
          "data": {
            "application/vnd.google.colaboratory.intrinsic+json": {
              "type": "string"
            },
            "text/plain": [
              "'2.4.0'"
            ]
          },
          "metadata": {
            "tags": []
          },
          "execution_count": 33
        }
      ]
    },
    {
      "cell_type": "code",
      "metadata": {
        "id": "HONkB49Assup"
      },
      "source": [
        "model = Sequential()\n",
        "model.add(Conv2D(filters = 32,kernel_size = (3,3),padding = 'same',activation = 'relu',input_shape = (100,100,1)))\n",
        "model.add(BatchNormalization())\n",
        "model.add(Conv2D(filters = 64,kernel_size = (3,3),padding = 'same',activation = 'relu'))\n",
        "model.add(BatchNormalization())\n",
        "model.add(MaxPooling2D((2,2)))\n",
        "model.add(Conv2D(filters = 128,kernel_size = (3,3),padding = 'same',activation = 'relu'))\n",
        "model.add(MaxPooling2D((2,2)))"
      ],
      "execution_count": 36,
      "outputs": []
    },
    {
      "cell_type": "code",
      "metadata": {
        "id": "pnQaf5WIkbZt"
      },
      "source": [
        "model.add(Flatten())\n",
        "model.add(Dense(128, activation='relu'))\n",
        "model.add(Dense(24,activation='softmax'))"
      ],
      "execution_count": 37,
      "outputs": []
    },
    {
      "cell_type": "code",
      "metadata": {
        "colab": {
          "base_uri": "https://localhost:8080/"
        },
        "id": "BmiBR0mpkg6m",
        "outputId": "f505ab4f-7b1c-4865-ef27-cf8301086eca"
      },
      "source": [
        "model.summary()"
      ],
      "execution_count": 38,
      "outputs": [
        {
          "output_type": "stream",
          "text": [
            "Model: \"sequential_1\"\n",
            "_________________________________________________________________\n",
            "Layer (type)                 Output Shape              Param #   \n",
            "=================================================================\n",
            "conv2d_4 (Conv2D)            (None, 100, 100, 32)      320       \n",
            "_________________________________________________________________\n",
            "batch_normalization_2 (Batch (None, 100, 100, 32)      128       \n",
            "_________________________________________________________________\n",
            "conv2d_5 (Conv2D)            (None, 100, 100, 64)      18496     \n",
            "_________________________________________________________________\n",
            "batch_normalization_3 (Batch (None, 100, 100, 64)      256       \n",
            "_________________________________________________________________\n",
            "max_pooling2d_3 (MaxPooling2 (None, 50, 50, 64)        0         \n",
            "_________________________________________________________________\n",
            "conv2d_6 (Conv2D)            (None, 50, 50, 128)       73856     \n",
            "_________________________________________________________________\n",
            "max_pooling2d_4 (MaxPooling2 (None, 25, 25, 128)       0         \n",
            "_________________________________________________________________\n",
            "flatten_1 (Flatten)          (None, 80000)             0         \n",
            "_________________________________________________________________\n",
            "dense_2 (Dense)              (None, 128)               10240128  \n",
            "_________________________________________________________________\n",
            "dense_3 (Dense)              (None, 24)                3096      \n",
            "=================================================================\n",
            "Total params: 10,336,280\n",
            "Trainable params: 10,336,088\n",
            "Non-trainable params: 192\n",
            "_________________________________________________________________\n"
          ],
          "name": "stdout"
        }
      ]
    },
    {
      "cell_type": "code",
      "metadata": {
        "id": "LhZ22Vy2kj4a",
        "colab": {
          "base_uri": "https://localhost:8080/"
        },
        "outputId": "9267243f-894d-4294-9ab5-952b88e76e58"
      },
      "source": [
        "model.compile(optimizer='adam',\n",
        "              loss=tf.keras.losses.SparseCategoricalCrossentropy(from_logits=True),\n",
        "              metrics=['accuracy'])\n",
        "\n",
        "history = model.fit(X_train, y_train, epochs=10, batch_size = 20, validation_data=(X_test, y_test))"
      ],
      "execution_count": 39,
      "outputs": [
        {
          "output_type": "stream",
          "text": [
            "Epoch 1/10\n",
            "199/199 [==============================] - 221s 1s/step - loss: 7.1931 - accuracy: 0.3453 - val_loss: 0.2876 - val_accuracy: 0.9196\n",
            "Epoch 2/10\n",
            "199/199 [==============================] - 219s 1s/step - loss: 0.1234 - accuracy: 0.9620 - val_loss: 0.0975 - val_accuracy: 0.9799\n",
            "Epoch 3/10\n",
            "199/199 [==============================] - 219s 1s/step - loss: 0.0132 - accuracy: 0.9971 - val_loss: 0.0995 - val_accuracy: 0.9769\n",
            "Epoch 4/10\n",
            "199/199 [==============================] - 219s 1s/step - loss: 0.0229 - accuracy: 0.9932 - val_loss: 0.1498 - val_accuracy: 0.9618\n",
            "Epoch 5/10\n",
            "199/199 [==============================] - 219s 1s/step - loss: 0.0438 - accuracy: 0.9910 - val_loss: 0.1223 - val_accuracy: 0.9658\n",
            "Epoch 6/10\n",
            "199/199 [==============================] - 219s 1s/step - loss: 0.0408 - accuracy: 0.9898 - val_loss: 0.1516 - val_accuracy: 0.9578\n",
            "Epoch 7/10\n",
            "199/199 [==============================] - 219s 1s/step - loss: 0.0902 - accuracy: 0.9771 - val_loss: 0.2096 - val_accuracy: 0.9568\n",
            "Epoch 8/10\n",
            "199/199 [==============================] - 219s 1s/step - loss: 0.0598 - accuracy: 0.9822 - val_loss: 0.1211 - val_accuracy: 0.9759\n",
            "Epoch 9/10\n",
            "199/199 [==============================] - 219s 1s/step - loss: 0.0348 - accuracy: 0.9909 - val_loss: 0.0942 - val_accuracy: 0.9759\n",
            "Epoch 10/10\n",
            "199/199 [==============================] - 219s 1s/step - loss: 0.0178 - accuracy: 0.9950 - val_loss: 0.0754 - val_accuracy: 0.9869\n"
          ],
          "name": "stdout"
        }
      ]
    },
    {
      "cell_type": "code",
      "metadata": {
        "id": "oYFulAv4oWIp",
        "colab": {
          "base_uri": "https://localhost:8080/",
          "height": 279
        },
        "outputId": "df05bf89-c1a9-4c94-e8fb-84c9144261b4"
      },
      "source": [
        "#Visualizing the training performance\n",
        "plt.figure(figsize=(12, 8))\n",
        "\n",
        "plt.subplot(2, 2, 1)\n",
        "plt.plot(history.history['loss'], label='Loss')\n",
        "plt.plot(history.history['val_loss'], label='val_Loss')\n",
        "\n",
        "plt.legend()\n",
        "plt.grid()\n",
        "plt.title('Loss evolution')\n",
        "\n",
        "plt.subplot(2, 2, 2)\n",
        "plt.plot(history.history['accuracy'], label='accuracy')\n",
        "plt.plot(history.history['val_accuracy'], label='val_accuracy')\n",
        "plt.legend()\n",
        "plt.grid()\n",
        "plt.title('Accuracy evolution')"
      ],
      "execution_count": 42,
      "outputs": [
        {
          "output_type": "execute_result",
          "data": {
            "text/plain": [
              "Text(0.5, 1.0, 'Accuracy evolution')"
            ]
          },
          "metadata": {
            "tags": []
          },
          "execution_count": 42
        },
        {
          "output_type": "display_data",
          "data": {
            "image/png": "[encoded data removed]",
            "text/plain": [
              "<Figure size 864x576 with 2 Axes>"
            ]
          },
          "metadata": {
            "tags": [],
            "needs_background": "light"
          }
        }
      ]
    },
    {
      "cell_type": "code",
      "metadata": {
        "id": "Dh-F4JeI2CzP"
      },
      "source": [
        "# model.save('/content/drive/My Drive/ASL/model.h5')"
      ],
      "execution_count": null,
      "outputs": []
    },
    {
      "cell_type": "code",
      "metadata": {
        "id": "a8zrs11MBPl7"
      },
      "source": [
        "model = load_model('/content/drive/My Drive/ASL/model.h5')"
      ],
      "execution_count": 43,
      "outputs": []
    },
    {
      "cell_type": "code",
      "metadata": {
        "colab": {
          "base_uri": "https://localhost:8080/"
        },
        "id": "auz6xnPrrbyy",
        "outputId": "ee70a78d-fb29-42e2-86bb-79df9e2d1d92"
      },
      "source": [
        "loss, acc = model.evaluate(X_test, y_test, verbose=2)\n",
        "print('model, accuracy: {:5.2f}%'.format(100 * acc))"
      ],
      "execution_count": 44,
      "outputs": [
        {
          "output_type": "stream",
          "text": [
            "32/32 - 7s - loss: 0.0207 - accuracy: 0.9950\n",
            "model, accuracy: 99.50%\n"
          ],
          "name": "stdout"
        }
      ]
    },
    {
      "cell_type": "markdown",
      "metadata": {
        "id": "RnvBV7lgnlaN"
      },
      "source": [
        "## Predictions for the test data\n",
        "predicted_classes = np.argmax(model.predict(X_test), axis=-1)"
      ]
    },
    {
      "cell_type": "code",
      "metadata": {
        "id": "otarbKhMpy8y"
      },
      "source": [
        "predicted_classes = np.argmax(model.predict(X_test), axis=-1) # returns an array of all predictions"
      ],
      "execution_count": 45,
      "outputs": []
    },
    {
      "cell_type": "code",
      "metadata": {
        "id": "ppmo4ry2mjiM",
        "colab": {
          "base_uri": "https://localhost:8080/"
        },
        "outputId": "eee4a044-e795-4cee-e2a7-ac737d54dc3b"
      },
      "source": [
        "predicted_classes"
      ],
      "execution_count": 46,
      "outputs": [
        {
          "output_type": "execute_result",
          "data": {
            "text/plain": [
              "array([ 4,  5,  9, 23,  5, 20, 10, 21, 10,  2, 15,  2, 15, 22,  9, 16,  1,\n",
              "       11, 16,  3,  8, 13, 14,  6, 15,  8,  0,  2,  9, 20, 16,  0,  2,  5,\n",
              "       18,  6, 20,  2,  9, 13, 19, 23,  8,  7, 19, 13,  6, 14,  2, 22, 13,\n",
              "       19, 23,  1, 14, 16, 17,  6,  4,  2, 16,  4, 19, 21, 11,  0, 23, 22,\n",
              "        0,  6,  3,  4, 23, 13, 22, 10, 22, 21, 23, 14, 11, 13, 16, 13, 21,\n",
              "       14, 13,  2,  6,  9, 14,  6, 11,  4,  1,  6, 10, 19,  2, 22,  1,  1,\n",
              "       14,  2, 17,  8, 16, 20, 16, 11,  3, 22, 15,  4,  7,  1, 12, 14, 13,\n",
              "       19, 17,  0, 17, 16,  3, 15, 18, 11, 12, 11,  1,  1, 12, 17,  8,  8,\n",
              "       16, 12,  2,  9,  5, 14,  6, 11,  9,  9, 11, 13,  3,  4, 22, 19, 14,\n",
              "        4,  0,  3,  3, 17,  0,  7, 17,  7, 15,  6,  9, 18,  7,  0,  8, 20,\n",
              "       22,  1,  1, 15, 13,  4, 20, 13, 18, 15,  6, 12, 21, 22, 12,  3, 10,\n",
              "       12, 23, 18, 11, 12, 14, 14, 13,  1, 10,  9, 12,  9,  7, 20,  6,  8,\n",
              "       16, 16, 16,  1, 18,  4,  2,  7, 12, 13,  5,  0,  4,  1,  6, 11, 12,\n",
              "        3,  0, 20, 21, 19, 14,  5,  6,  4, 17, 18, 14,  1, 21, 10,  6,  2,\n",
              "        0, 18,  8, 13, 15, 16, 13, 11, 18, 14,  6,  3, 11, 20, 18,  9, 18,\n",
              "        8,  9, 12,  4, 14,  0,  9,  8,  0,  9,  5, 13, 11, 20,  1, 12, 15,\n",
              "        6,  6,  4,  2, 11,  1,  8,  0,  4, 13,  1,  2,  0, 17,  5, 17, 14,\n",
              "        6,  0,  1, 20, 22,  0,  0, 17,  1, 12, 11,  3, 23,  8,  8, 16,  2,\n",
              "        7,  4,  8, 22, 22, 17, 23,  5,  4,  5, 23, 13, 12, 11, 20,  5, 12,\n",
              "       17, 17,  4, 10,  5, 23, 23, 22, 17, 16, 23,  2,  0, 17,  4,  4, 19,\n",
              "        2, 17, 15, 10, 23, 12, 20, 18, 17,  0,  0,  2,  1, 12,  6, 17, 10,\n",
              "        2,  7, 20, 12, 11,  9, 18, 23,  2,  4, 14, 14,  5, 11, 22,  9, 18,\n",
              "       23,  1,  0, 22, 11, 12,  4,  7, 23,  5,  7,  2, 19,  2, 23,  4, 22,\n",
              "        9,  9,  4, 21,  1, 17,  0,  8, 17,  9,  2, 16,  4,  2,  8,  8, 16,\n",
              "       18, 20, 14, 23, 13, 15, 13, 14, 19,  4,  7, 18, 14, 17,  1, 22,  0,\n",
              "        5, 14,  3,  3,  3,  0, 16,  2,  5, 23, 22,  6, 16, 10, 14, 22, 20,\n",
              "       20, 18, 23,  5, 14, 23,  6, 10,  5, 23,  9,  3, 18, 21,  0,  7,  5,\n",
              "       11, 12, 23, 14, 23,  0, 14, 21,  6,  4, 12,  6,  4,  4,  5,  7, 21,\n",
              "        1, 14,  4,  9,  6,  2,  0, 15, 21,  6,  9,  0,  2,  6, 11, 12, 11,\n",
              "        8, 13,  9,  0, 13, 11,  8, 22, 17, 13,  3, 17, 23,  9,  2,  9, 17,\n",
              "       16, 15, 17, 13, 17, 22,  9, 16, 18,  1, 18, 21, 21, 19, 17, 14,  1,\n",
              "        5,  8, 14, 20,  5,  1, 21,  3,  5, 17,  8,  0, 13, 23, 13,  2,  5,\n",
              "        4, 13,  0,  1, 23, 12,  9,  0, 11, 20,  2,  6, 12, 10,  1, 10, 14,\n",
              "       11,  0,  1,  6, 18, 14,  0, 22,  8,  1, 14, 22, 12, 14, 23,  5,  9,\n",
              "        9, 14, 18, 12,  7, 14,  9, 13, 16, 11, 20,  3, 21,  8,  8, 23, 17,\n",
              "       23, 16, 23,  9,  6, 12, 20,  4,  0,  5, 11, 13, 23, 16,  1, 17,  4,\n",
              "        3, 13, 18,  9,  8,  6, 14,  4, 16,  7, 14, 23,  3, 13,  5,  3,  4,\n",
              "       18, 15,  6, 18, 22, 18,  5,  1, 16, 10, 18, 20, 10,  5,  0,  4, 15,\n",
              "        0, 10,  9, 14, 16, 20,  0, 18, 19, 13,  1,  2, 15, 18, 21, 22, 17,\n",
              "        3,  0, 19,  7,  5, 18, 19,  9, 13,  9,  4,  2, 15, 15, 10, 23, 18,\n",
              "        4, 21, 14, 15, 16, 14,  6,  2,  5,  8, 22,  5, 12, 10,  8, 21,  2,\n",
              "        3, 22,  1,  8, 11, 22,  1, 12, 11, 14, 13, 10,  5,  3,  1,  1,  9,\n",
              "       16, 10, 21, 10, 16,  3, 20, 23, 23, 23, 11, 12, 22, 13,  6, 18, 11,\n",
              "       17, 16,  2, 17, 17,  4, 18, 10,  3,  0, 16, 15, 20,  5,  2,  7,  1,\n",
              "       11, 18,  3, 14, 18, 17,  8,  1,  6,  0,  7,  2, 14,  7,  9, 12,  2,\n",
              "        9, 22, 17, 11, 23, 15, 13,  6, 20,  4, 13, 23, 11,  4, 11, 20, 18,\n",
              "       17,  4, 12,  6,  6, 12,  3, 15, 16, 11,  7,  5, 11, 15, 13,  6, 23,\n",
              "       22,  0, 10, 20, 11, 21,  2,  1, 20, 17, 21, 15, 19, 13,  9, 11,  1,\n",
              "        4, 17,  5, 12, 16,  6,  5,  2, 20, 12,  1,  2, 10,  2,  2, 23, 16,\n",
              "       18, 20,  5,  8,  1, 11, 23, 13, 19,  5,  0, 10, 10, 14, 16,  6,  9,\n",
              "        4, 13, 13,  9, 19, 14, 15, 11,  1, 23, 17, 10, 17,  0, 13, 16, 17,\n",
              "       12, 10,  8, 17,  3, 23, 23, 11, 21,  1,  6, 14,  5,  3, 17,  0,  8,\n",
              "       18, 11,  8, 14,  4,  9, 23, 18, 17,  2, 18,  3, 18,  6, 16, 10, 19,\n",
              "       13, 18,  6, 22, 12,  4,  6, 22, 19, 22, 17, 23, 18,  1,  9, 10,  6,\n",
              "        0, 15,  0, 18, 12, 12, 13,  8, 18,  6,  2, 19, 17,  9, 22,  5,  0,\n",
              "       10, 17,  7, 12, 12, 13, 17, 16, 13, 22, 17, 18,  6,  5, 14, 20,  1,\n",
              "       11, 17,  5,  0, 22, 20,  0,  2,  4, 11,  5, 22, 10, 10,  1,  2,  3,\n",
              "        1,  1,  6, 22, 19, 14, 10, 11, 16,  2, 19, 11, 13, 16,  5, 12, 23,\n",
              "       16,  4,  0, 23,  9,  8,  7,  8, 16])"
            ]
          },
          "metadata": {
            "tags": []
          },
          "execution_count": 46
        }
      ]
    },
    {
      "cell_type": "code",
      "metadata": {
        "colab": {
          "base_uri": "https://localhost:8080/",
          "height": 117
        },
        "id": "CjiTYUaPp9J4",
        "outputId": "43825f10-b5fa-4a87-f87d-390975fc66c7"
      },
      "source": [
        "cv2_imshow(X_test[100])"
      ],
      "execution_count": 47,
      "outputs": [
        {
          "output_type": "display_data",
          "data": {
            "image/png": "[encoded data removed]",
            "text/plain": [
              "<PIL.Image.Image image mode=RGB size=100x100 at 0x7FD217EB1F90>"
            ]
          },
          "metadata": {
            "tags": []
          }
        }
      ]
    },
    {
      "cell_type": "code",
      "metadata": {
        "colab": {
          "base_uri": "https://localhost:8080/",
          "height": 35
        },
        "id": "ildfFUn8lQgj",
        "outputId": "37e179ba-001e-41a5-d10e-08bf72a08fb2"
      },
      "source": [
        "CATEGORIES[y_test[100][0]]"
      ],
      "execution_count": 48,
      "outputs": [
        {
          "output_type": "execute_result",
          "data": {
            "application/vnd.google.colaboratory.intrinsic+json": {
              "type": "string"
            },
            "text/plain": [
              "'B'"
            ]
          },
          "metadata": {
            "tags": []
          },
          "execution_count": 48
        }
      ]
    },
    {
      "cell_type": "code",
      "metadata": {
        "colab": {
          "base_uri": "https://localhost:8080/",
          "height": 35
        },
        "id": "gjXjXfHtlVrB",
        "outputId": "a59ce973-d181-4a3b-f958-6250f6b0a3b3"
      },
      "source": [
        "CATEGORIES[predicted_classes[100]]"
      ],
      "execution_count": 49,
      "outputs": [
        {
          "output_type": "execute_result",
          "data": {
            "application/vnd.google.colaboratory.intrinsic+json": {
              "type": "string"
            },
            "text/plain": [
              "'B'"
            ]
          },
          "metadata": {
            "tags": []
          },
          "execution_count": 49
        }
      ]
    },
    {
      "cell_type": "code",
      "metadata": {
        "colab": {
          "base_uri": "https://localhost:8080/",
          "height": 117
        },
        "id": "n2M900CjrdRr",
        "outputId": "64716b80-eb1e-4a1f-8252-5faed66ce03b"
      },
      "source": [
        "cv2_imshow(X_test[5])"
      ],
      "execution_count": 50,
      "outputs": [
        {
          "output_type": "display_data",
          "data": {
            "image/png": "[encoded data removed]",
            "text/plain": [
              "<PIL.Image.Image image mode=RGB size=100x100 at 0x7FD216E2B6D0>"
            ]
          },
          "metadata": {
            "tags": []
          }
        }
      ]
    },
    {
      "cell_type": "code",
      "metadata": {
        "id": "ndVjdRDBxxbW",
        "colab": {
          "base_uri": "https://localhost:8080/",
          "height": 35
        },
        "outputId": "f8cdaf5a-2fd2-4194-9956-12bca27dda21"
      },
      "source": [
        "CATEGORIES[y_test[5][0]]"
      ],
      "execution_count": 51,
      "outputs": [
        {
          "output_type": "execute_result",
          "data": {
            "application/vnd.google.colaboratory.intrinsic+json": {
              "type": "string"
            },
            "text/plain": [
              "'V'"
            ]
          },
          "metadata": {
            "tags": []
          },
          "execution_count": 51
        }
      ]
    },
    {
      "cell_type": "code",
      "metadata": {
        "colab": {
          "base_uri": "https://localhost:8080/",
          "height": 35
        },
        "id": "lHnJsZAFr8ca",
        "outputId": "afecbaa0-723a-4423-fca4-7e46d125e526"
      },
      "source": [
        "CATEGORIES[predicted_classes[5]]"
      ],
      "execution_count": 52,
      "outputs": [
        {
          "output_type": "execute_result",
          "data": {
            "application/vnd.google.colaboratory.intrinsic+json": {
              "type": "string"
            },
            "text/plain": [
              "'V'"
            ]
          },
          "metadata": {
            "tags": []
          },
          "execution_count": 52
        }
      ]
    },
    {
      "cell_type": "code",
      "metadata": {
        "id": "VGTiEu-2r-oy"
      },
      "source": [
        "def predict(img):\n",
        "  img = np.expand_dims(img, axis=0)\n",
        "  return CATEGORIES[np.argmax(model.predict(img))]"
      ],
      "execution_count": 53,
      "outputs": []
    },
    {
      "cell_type": "code",
      "metadata": {
        "colab": {
          "base_uri": "https://localhost:8080/",
          "height": 35
        },
        "id": "YOFXhKR_sQHM",
        "outputId": "c1c72928-0d5a-4496-e8d6-b3fd3faf74af"
      },
      "source": [
        "predict(X_test[5])"
      ],
      "execution_count": 54,
      "outputs": [
        {
          "output_type": "execute_result",
          "data": {
            "application/vnd.google.colaboratory.intrinsic+json": {
              "type": "string"
            },
            "text/plain": [
              "'V'"
            ]
          },
          "metadata": {
            "tags": []
          },
          "execution_count": 54
        }
      ]
    },
    {
      "cell_type": "code",
      "metadata": {
        "colab": {
          "base_uri": "https://localhost:8080/",
          "height": 117
        },
        "id": "R6m6X7-OzCBd",
        "outputId": "76b39511-8f60-4d5a-81e0-2099a6500a18"
      },
      "source": [
        "cv2_imshow(X_test[16])"
      ],
      "execution_count": 55,
      "outputs": [
        {
          "output_type": "display_data",
          "data": {
            "image/png": "[encoded data removed]",
            "text/plain": [
              "<PIL.Image.Image image mode=RGB size=100x100 at 0x7FD21A841E50>"
            ]
          },
          "metadata": {
            "tags": []
          }
        }
      ]
    },
    {
      "cell_type": "code",
      "metadata": {
        "id": "JlCln35ezLpy",
        "colab": {
          "base_uri": "https://localhost:8080/",
          "height": 35
        },
        "outputId": "c25f7ce9-eb62-44d3-8c66-9f285915ef49"
      },
      "source": [
        "CATEGORIES[y_test[16][0]]"
      ],
      "execution_count": 57,
      "outputs": [
        {
          "output_type": "execute_result",
          "data": {
            "application/vnd.google.colaboratory.intrinsic+json": {
              "type": "string"
            },
            "text/plain": [
              "'B'"
            ]
          },
          "metadata": {
            "tags": []
          },
          "execution_count": 57
        }
      ]
    },
    {
      "cell_type": "code",
      "metadata": {
        "colab": {
          "base_uri": "https://localhost:8080/",
          "height": 35
        },
        "id": "G8lO2f9by3_C",
        "outputId": "0a209c37-57de-4008-c46c-184087a986cf"
      },
      "source": [
        "predict(X_test[16])"
      ],
      "execution_count": 58,
      "outputs": [
        {
          "output_type": "execute_result",
          "data": {
            "application/vnd.google.colaboratory.intrinsic+json": {
              "type": "string"
            },
            "text/plain": [
              "'B'"
            ]
          },
          "metadata": {
            "tags": []
          },
          "execution_count": 58
        }
      ]
    },
    {
      "cell_type": "code",
      "metadata": {
        "id": "XkI__-Dhy96j"
      },
      "source": [
        ""
      ],
      "execution_count": null,
      "outputs": []
    }
  ]
}